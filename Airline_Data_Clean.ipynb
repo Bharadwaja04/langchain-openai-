{
 "cells": [
  {
   "cell_type": "code",
   "execution_count": 1,
   "metadata": {},
   "outputs": [],
   "source": [
    "import pandas as pd\n",
    "df = pd.read_csv('Airline_review.csv')"
   ]
  },
  {
   "cell_type": "code",
   "execution_count": 2,
   "metadata": {},
   "outputs": [
    {
     "data": {
      "text/html": [
       "<div>\n",
       "<style scoped>\n",
       "    .dataframe tbody tr th:only-of-type {\n",
       "        vertical-align: middle;\n",
       "    }\n",
       "\n",
       "    .dataframe tbody tr th {\n",
       "        vertical-align: top;\n",
       "    }\n",
       "\n",
       "    .dataframe thead th {\n",
       "        text-align: right;\n",
       "    }\n",
       "</style>\n",
       "<table border=\"1\" class=\"dataframe\">\n",
       "  <thead>\n",
       "    <tr style=\"text-align: right;\">\n",
       "      <th></th>\n",
       "      <th>Unnamed: 0</th>\n",
       "      <th>Airline Name</th>\n",
       "      <th>Overall_Rating</th>\n",
       "      <th>Review_Title</th>\n",
       "      <th>Review Date</th>\n",
       "      <th>Verified</th>\n",
       "      <th>Review</th>\n",
       "      <th>Aircraft</th>\n",
       "      <th>Type Of Traveller</th>\n",
       "      <th>Seat Type</th>\n",
       "      <th>Route</th>\n",
       "      <th>Date Flown</th>\n",
       "      <th>Seat Comfort</th>\n",
       "      <th>Cabin Staff Service</th>\n",
       "      <th>Food &amp; Beverages</th>\n",
       "      <th>Ground Service</th>\n",
       "      <th>Inflight Entertainment</th>\n",
       "      <th>Wifi &amp; Connectivity</th>\n",
       "      <th>Value For Money</th>\n",
       "      <th>Recommended</th>\n",
       "    </tr>\n",
       "  </thead>\n",
       "  <tbody>\n",
       "    <tr>\n",
       "      <th>0</th>\n",
       "      <td>0</td>\n",
       "      <td>AB Aviation</td>\n",
       "      <td>9</td>\n",
       "      <td>\"pretty decent airline\"</td>\n",
       "      <td>11th November 2019</td>\n",
       "      <td>True</td>\n",
       "      <td>Moroni to Moheli. Turned out to be a pretty ...</td>\n",
       "      <td>NaN</td>\n",
       "      <td>Solo Leisure</td>\n",
       "      <td>Economy Class</td>\n",
       "      <td>Moroni to Moheli</td>\n",
       "      <td>November 2019</td>\n",
       "      <td>4.0</td>\n",
       "      <td>5.0</td>\n",
       "      <td>4.0</td>\n",
       "      <td>4.0</td>\n",
       "      <td>NaN</td>\n",
       "      <td>NaN</td>\n",
       "      <td>3.0</td>\n",
       "      <td>yes</td>\n",
       "    </tr>\n",
       "    <tr>\n",
       "      <th>1</th>\n",
       "      <td>1</td>\n",
       "      <td>AB Aviation</td>\n",
       "      <td>1</td>\n",
       "      <td>\"Not a good airline\"</td>\n",
       "      <td>25th June 2019</td>\n",
       "      <td>True</td>\n",
       "      <td>Moroni to Anjouan. It is a very small airline...</td>\n",
       "      <td>E120</td>\n",
       "      <td>Solo Leisure</td>\n",
       "      <td>Economy Class</td>\n",
       "      <td>Moroni to Anjouan</td>\n",
       "      <td>June 2019</td>\n",
       "      <td>2.0</td>\n",
       "      <td>2.0</td>\n",
       "      <td>1.0</td>\n",
       "      <td>1.0</td>\n",
       "      <td>NaN</td>\n",
       "      <td>NaN</td>\n",
       "      <td>2.0</td>\n",
       "      <td>no</td>\n",
       "    </tr>\n",
       "    <tr>\n",
       "      <th>2</th>\n",
       "      <td>2</td>\n",
       "      <td>AB Aviation</td>\n",
       "      <td>1</td>\n",
       "      <td>\"flight was fortunately short\"</td>\n",
       "      <td>25th June 2019</td>\n",
       "      <td>True</td>\n",
       "      <td>Anjouan to Dzaoudzi. A very small airline an...</td>\n",
       "      <td>Embraer E120</td>\n",
       "      <td>Solo Leisure</td>\n",
       "      <td>Economy Class</td>\n",
       "      <td>Anjouan to Dzaoudzi</td>\n",
       "      <td>June 2019</td>\n",
       "      <td>2.0</td>\n",
       "      <td>1.0</td>\n",
       "      <td>1.0</td>\n",
       "      <td>1.0</td>\n",
       "      <td>NaN</td>\n",
       "      <td>NaN</td>\n",
       "      <td>2.0</td>\n",
       "      <td>no</td>\n",
       "    </tr>\n",
       "    <tr>\n",
       "      <th>3</th>\n",
       "      <td>3</td>\n",
       "      <td>Adria Airways</td>\n",
       "      <td>1</td>\n",
       "      <td>\"I will never fly again with Adria\"</td>\n",
       "      <td>28th September 2019</td>\n",
       "      <td>False</td>\n",
       "      <td>Please do a favor yourself and do not fly wi...</td>\n",
       "      <td>NaN</td>\n",
       "      <td>Solo Leisure</td>\n",
       "      <td>Economy Class</td>\n",
       "      <td>Frankfurt to Pristina</td>\n",
       "      <td>September 2019</td>\n",
       "      <td>1.0</td>\n",
       "      <td>1.0</td>\n",
       "      <td>NaN</td>\n",
       "      <td>1.0</td>\n",
       "      <td>NaN</td>\n",
       "      <td>NaN</td>\n",
       "      <td>1.0</td>\n",
       "      <td>no</td>\n",
       "    </tr>\n",
       "    <tr>\n",
       "      <th>4</th>\n",
       "      <td>4</td>\n",
       "      <td>Adria Airways</td>\n",
       "      <td>1</td>\n",
       "      <td>\"it ruined our last days of holidays\"</td>\n",
       "      <td>24th September 2019</td>\n",
       "      <td>True</td>\n",
       "      <td>Do not book a flight with this airline! My fr...</td>\n",
       "      <td>NaN</td>\n",
       "      <td>Couple Leisure</td>\n",
       "      <td>Economy Class</td>\n",
       "      <td>Sofia to Amsterdam via Ljubljana</td>\n",
       "      <td>September 2019</td>\n",
       "      <td>1.0</td>\n",
       "      <td>1.0</td>\n",
       "      <td>1.0</td>\n",
       "      <td>1.0</td>\n",
       "      <td>1.0</td>\n",
       "      <td>1.0</td>\n",
       "      <td>1.0</td>\n",
       "      <td>no</td>\n",
       "    </tr>\n",
       "  </tbody>\n",
       "</table>\n",
       "</div>"
      ],
      "text/plain": [
       "   Unnamed: 0   Airline Name Overall_Rating  \\\n",
       "0           0    AB Aviation              9   \n",
       "1           1    AB Aviation              1   \n",
       "2           2    AB Aviation              1   \n",
       "3           3  Adria Airways              1   \n",
       "4           4  Adria Airways              1   \n",
       "\n",
       "                            Review_Title          Review Date  Verified  \\\n",
       "0                \"pretty decent airline\"   11th November 2019      True   \n",
       "1                   \"Not a good airline\"       25th June 2019      True   \n",
       "2         \"flight was fortunately short\"       25th June 2019      True   \n",
       "3    \"I will never fly again with Adria\"  28th September 2019     False   \n",
       "4  \"it ruined our last days of holidays\"  24th September 2019      True   \n",
       "\n",
       "                                              Review       Aircraft  \\\n",
       "0    Moroni to Moheli. Turned out to be a pretty ...            NaN   \n",
       "1   Moroni to Anjouan. It is a very small airline...           E120   \n",
       "2    Anjouan to Dzaoudzi. A very small airline an...  Embraer E120    \n",
       "3    Please do a favor yourself and do not fly wi...            NaN   \n",
       "4   Do not book a flight with this airline! My fr...            NaN   \n",
       "\n",
       "  Type Of Traveller      Seat Type                             Route  \\\n",
       "0      Solo Leisure  Economy Class                  Moroni to Moheli   \n",
       "1      Solo Leisure  Economy Class                 Moroni to Anjouan   \n",
       "2      Solo Leisure  Economy Class               Anjouan to Dzaoudzi   \n",
       "3      Solo Leisure  Economy Class             Frankfurt to Pristina   \n",
       "4    Couple Leisure  Economy Class  Sofia to Amsterdam via Ljubljana   \n",
       "\n",
       "       Date Flown  Seat Comfort  Cabin Staff Service  Food & Beverages  \\\n",
       "0   November 2019           4.0                  5.0               4.0   \n",
       "1       June 2019           2.0                  2.0               1.0   \n",
       "2       June 2019           2.0                  1.0               1.0   \n",
       "3  September 2019           1.0                  1.0               NaN   \n",
       "4  September 2019           1.0                  1.0               1.0   \n",
       "\n",
       "   Ground Service  Inflight Entertainment  Wifi & Connectivity  \\\n",
       "0             4.0                     NaN                  NaN   \n",
       "1             1.0                     NaN                  NaN   \n",
       "2             1.0                     NaN                  NaN   \n",
       "3             1.0                     NaN                  NaN   \n",
       "4             1.0                     1.0                  1.0   \n",
       "\n",
       "   Value For Money Recommended  \n",
       "0              3.0         yes  \n",
       "1              2.0          no  \n",
       "2              2.0          no  \n",
       "3              1.0          no  \n",
       "4              1.0          no  "
      ]
     },
     "execution_count": 2,
     "metadata": {},
     "output_type": "execute_result"
    }
   ],
   "source": [
    "df.head()"
   ]
  },
  {
   "cell_type": "code",
   "execution_count": 3,
   "metadata": {},
   "outputs": [
    {
     "data": {
      "text/plain": [
       "Unnamed: 0                    0\n",
       "Airline Name                  0\n",
       "Overall_Rating                0\n",
       "Review_Title                  0\n",
       "Review Date                   0\n",
       "Verified                      0\n",
       "Review                        0\n",
       "Aircraft                  16042\n",
       "Type Of Traveller          3738\n",
       "Seat Type                  1096\n",
       "Route                      3828\n",
       "Date Flown                 3754\n",
       "Seat Comfort               4155\n",
       "Cabin Staff Service        4260\n",
       "Food & Beverages           8671\n",
       "Ground Service             4793\n",
       "Inflight Entertainment    12342\n",
       "Wifi & Connectivity       17251\n",
       "Value For Money            1066\n",
       "Recommended                   0\n",
       "dtype: int64"
      ]
     },
     "execution_count": 3,
     "metadata": {},
     "output_type": "execute_result"
    }
   ],
   "source": [
    "df.isnull().sum()"
   ]
  },
  {
   "cell_type": "code",
   "execution_count": 4,
   "metadata": {},
   "outputs": [],
   "source": [
    "categorical_columns = df.select_dtypes(include=['object']).columns"
   ]
  },
  {
   "cell_type": "code",
   "execution_count": 5,
   "metadata": {},
   "outputs": [
    {
     "name": "stdout",
     "output_type": "stream",
     "text": [
      "Index(['Airline Name', 'Overall_Rating', 'Review_Title', 'Review Date',\n",
      "       'Review', 'Aircraft', 'Type Of Traveller', 'Seat Type', 'Route',\n",
      "       'Date Flown', 'Recommended'],\n",
      "      dtype='object')\n"
     ]
    }
   ],
   "source": [
    "print(categorical_columns)"
   ]
  },
  {
   "cell_type": "code",
   "execution_count": 6,
   "metadata": {},
   "outputs": [
    {
     "data": {
      "text/plain": [
       "array(['AB Aviation', 'Adria Airways', 'Aegean Airlines', 'Aer Lingus',\n",
       "       'Aero VIP', 'Aerocaribbean', 'Aeroflot Russian Airlines',\n",
       "       'AeroItalia', 'Aerolineas Argentinas', 'Aeromar', 'Aeromexico',\n",
       "       'Aerosur', 'Africa World Airlines', 'Afriqiyah Airways',\n",
       "       'Aigle Azur', 'Air Algerie', 'Air Antilles', 'Air Arabia',\n",
       "       'Air Astana', 'Air Austral', 'Air Bagan', 'Air Berlin',\n",
       "       'Air Botswana', 'Air Burkina', 'Air Busan', 'Air Cairo',\n",
       "       'Air Canada', 'Air Canada rouge', 'Air Caraibes', 'Air China',\n",
       "       'Air Corsica', 'Air Costa', \"Air Cote d'Ivoire\", 'Air Djibouti',\n",
       "       'Air Dolomiti', 'Air Europa', 'Air France', 'Air Greenland',\n",
       "       'Air Iceland Connect', 'Air India', 'Air India Express',\n",
       "       'Air Italy', 'Air Juan', 'Air KBZ', 'Air Koryo', 'Air Labrador',\n",
       "       'Air Macau', 'Air Madagascar', 'Air Malawi', 'Air Malta',\n",
       "       'Air Mauritius', 'Air Mediterranee', 'Air Memphis', 'Air Moldova',\n",
       "       'Air Namibia', 'Air New Zealand', 'Air Niugini',\n",
       "       \"Air North Yukon's Airline\", 'Air Nostrum', 'Air Panama',\n",
       "       'Air Pegasus', 'Air Rarotonga', 'Air Serbia', 'Air Seychelles',\n",
       "       'Air Tahiti Nui', 'Air Tanzania', 'Air Transat', 'Air Zimbabwe',\n",
       "       'AirAsia', 'AirAsia India', 'AirAsia Philippines', 'AirAsia X',\n",
       "       'AirAsia Zest', 'airBaltic', 'Aircalin', 'Airlink', 'Airnorth',\n",
       "       'AirSWIFT', 'Akasa Air', 'Alaska Airlines', 'Alitalia',\n",
       "       'Allegiant Air', 'Alliance Air', 'Alliance Airlines', 'Amaszonas',\n",
       "       'American Airlines', 'American Eagle', 'ANA All Nippon Airways',\n",
       "       'AnadoluJet', 'Andes Líneas Aéreas', 'Ariana Afghan Airlines',\n",
       "       'Arik Air', 'Arkefly', 'Armenia Air Company', 'Asiana Airlines',\n",
       "       'ASKY Airlines', 'ATA Airlines', 'Atlantic Airways', 'Auric Air',\n",
       "       'Aurigny Air', 'Austrian Airlines', 'Avelo Airlines', 'Avianca',\n",
       "       'Avior Airlines', 'Azerbaijan Airlines', 'Azur Air Germany',\n",
       "       'BA CityFlyer', 'Badr Airlines', 'Bahamasair', 'Bamboo Airways',\n",
       "       'Bangkok Airways', 'Bassaka Air', 'Batik Air',\n",
       "       'Beijing Capital Airlines', 'Belavia', 'Berjaya Air',\n",
       "       'Bhutan Airlines', 'Binter Canarias', 'Blue Air', 'Blue Islands',\n",
       "       'Blue Panorama Airlines', 'Blue1', 'Bluebird Airways',\n",
       "       'bmi Regional', 'BoraJet', 'Boutique Air', 'Breeze Airways',\n",
       "       'British Airways', 'Brussels Airlines', 'Buddha Air',\n",
       "       'Bulgaria Air', 'Buta Airways', 'Camair-Co', 'Cambodia Airways',\n",
       "       'Cambodia Bayon Airlines', 'Canadian North', 'Canaryfly',\n",
       "       'Cape Air', 'Caribbean Airlines', 'Carpatair', 'Cathay Dragon',\n",
       "       'Cathay Pacific Airways', 'Cayman Airways', 'Cebu Pacific',\n",
       "       'CemAir', 'Central Mountain Air', 'China Airlines',\n",
       "       'China Eastern Airlines', 'China Southern Airlines',\n",
       "       'China United Airlines', 'Citilink', 'CityJet', 'Coastal Aviation',\n",
       "       'Cobalt', 'Comair', 'Condor Airlines', 'Conviasa', 'Copa Airlines',\n",
       "       'Corendon Airlines', 'Corsair', 'Croatia Airlines',\n",
       "       'CSA Czech Airlines', 'Cubana Airlines', 'Cyprus Airways',\n",
       "       'Delta Air Lines', 'Dimonim Air', 'Dniproavia', 'Dragonair',\n",
       "       'Druk Air', 'Dynamic International Airways', 'Eastern Airlines',\n",
       "       'Eastern Airways', 'Easyfly', 'easyJet', 'Edelweiss Air',\n",
       "       'Egyptair', 'El Al Israel Airlines', 'Ellinair', 'Emirates',\n",
       "       'Eritrean Airlines', 'Ernest Airlines', 'Estonian Air',\n",
       "       'Eswatini Air', 'Ethiopian Airlines', 'Etihad Airways',\n",
       "       'euroAtlantic Airways', 'Europe Airpost', 'Eurowings', 'EVA Air',\n",
       "       'Evelop Airlines', 'EWA Air', 'Ravn Alaska', 'fastjet',\n",
       "       'Felix Airways', 'Fiji Airways', 'Finnair', 'Firefly',\n",
       "       'Flair Airlines', 'Fly540.com', 'flyadeal', 'FlyArystan', 'flybe',\n",
       "       'flydubai', 'Flynas', 'FLYONE', 'FlySafair', 'FMI Air',\n",
       "       'French Bee', 'Frontier Airlines', 'Garuda Indonesia',\n",
       "       'Georgian Airways', 'Germania Airline', 'Germanwings', 'Go First',\n",
       "       'GoAir', 'Golden Myanmar Airlines', 'Grand Cru Airlines',\n",
       "       'Greater Bay Airlines', 'Gulf Air', 'Hainan Airlines',\n",
       "       'Hawaiian Airlines', 'Henan Airlines', 'Hi Fly',\n",
       "       'Himalaya Airlines', 'HiSky', 'Hong Kong Airlines', 'HOP!',\n",
       "       'Horizon Air', 'Hunnu Air', 'Iberia', 'Iberia Express', 'Iberojet',\n",
       "       'Icelandair', 'Insel Air', 'Intercaribbean Airways', 'Interjet',\n",
       "       'InterSky', 'Iran Air', 'Iraqi Airways', 'Israir Airlines',\n",
       "       'ITA Airways', 'Japan Airlines', 'Jazeera Airways', 'Jazz',\n",
       "       'JC International Airlines', 'Jeju Air', 'Jet Airways', 'Jet2.com',\n",
       "       'Jetairfly', 'Jetblue Airways', 'JetSmart', 'Jetstar Airways',\n",
       "       'Jetstar Asia', 'Jetstar Japan', 'Jetstar Pacific', 'JetsuiteX',\n",
       "       'Jin Air', 'Joon', 'Jordan Aviation', 'Kam Air', 'Kan Air',\n",
       "       'Karthago Airlines', 'KD Air', 'Kenya Airways',\n",
       "       'KLM Royal Dutch Airlines', 'Korean Air', 'Kulula',\n",
       "       'Kuwait Airways', 'La Compagnie', 'LAN Airlines', 'LAN Colombia',\n",
       "       'LAN Peru', 'Lao Airlines', 'LATAM Airlines', 'Laudamotion',\n",
       "       'LC Perú', 'Level', 'LIAT', 'Libyan Airlines', 'Lion Air',\n",
       "       'Loch Lomond Seaplanes', 'Loganair', 'LOT Polish Airlines',\n",
       "       'Lubeck Air', 'Lucky Air', 'Lufthansa', 'Luxair', 'Lynx Air',\n",
       "       'Mack Air', 'Madagasikara Airways', 'Mahan Air',\n",
       "       'Malawian Airlines', 'Malaysia Airlines', 'Maldivian',\n",
       "       'Malindo Air', 'Mandarin Airlines', 'Mann Yadanarpon Airlines',\n",
       "       'Manta Air', 'Martinair', 'Mauritania Airlines', 'Maya Island Air',\n",
       "       'MAYAir', 'MEGA Maldives Airlines', 'Meridiana', 'Mihin Lanka',\n",
       "       'Mokulele Airlines', 'Moldavian Airlines', 'Monarch Airlines',\n",
       "       'Montenegro Airlines', 'Motor Sich Airlines', 'Myanmar Airways',\n",
       "       'Myanmar National Airlines', 'NAM Air', 'Nature Air',\n",
       "       'Nauru Airlines', 'Nepal Airlines', 'NextJet', 'NIKI', 'Nile Air',\n",
       "       'Nok Air', 'NokScoot', 'Nordavia', 'Nordic Regional Airlines',\n",
       "       'Nordica', 'NordStar', 'Nordwind Airlines',\n",
       "       'Norse Atlantic Airways', 'Norwegian', 'Nouvelair', 'Novair',\n",
       "       'Novoair', 'Okay Airways', 'Olympic Air', 'Oman Air',\n",
       "       'Omni Air International', 'Onur Air', 'Openskies',\n",
       "       'Pacific Airlines', 'PAL Express', 'Pan Pacific Airlines',\n",
       "       'Passion Air', 'PAWA Dominicana', 'Peach Aviation',\n",
       "       'Pegasus Airlines', 'PenAir', 'Peruvian Airlines',\n",
       "       'Petroleum Air Services', 'Philippine Airlines', 'Phuket Air',\n",
       "       'PLAY', 'Pobeda Airlines', 'Porter Airlines', 'Primera Air',\n",
       "       'Privilege Style', 'Qantas Airways', 'QantasLink', 'Qatar Airways',\n",
       "       'Qazaq Air', 'Red Wings Airlines', 'Regent Airways',\n",
       "       'Regional Express', 'Rex Airlines', 'Rhein-Neckar Air',\n",
       "       'Rossiya Airlines', 'Royal Air Maroc', 'Royal Brunei Airlines',\n",
       "       'Royal Jordanian Airlines', 'Rwandair', 'Ryanair',\n",
       "       'S7 Siberia Airlines', 'SA Express', 'Safarilink', 'Safi Airways',\n",
       "       'Salam Air', 'Sansa Airlines', 'SATA Air Azores', 'SATENA',\n",
       "       'Saudi Arabian Airlines', 'SCAT Airlines', 'Scoot',\n",
       "       'Seaborne Airlines', 'SereneAir', 'Shaheen Air',\n",
       "       'Shandong Airlines', 'Shanghai Airlines', 'Shenzhen Airlines',\n",
       "       'Sichuan Airlines', 'SilkAir', 'Silver Airways',\n",
       "       'Singapore Airlines', 'Sky Airline', 'Sky Express Airlines',\n",
       "       'Skybus', 'Skymark Airlines', 'Skytrans Airlines',\n",
       "       'SkyUp Airlines', 'SkyWest Airlines', 'SkyWork Airlines',\n",
       "       'Smartavia', 'SmartLynx Airlines', 'SmartWings',\n",
       "       'Sol Líneas Aéreas', 'Solomon Airlines', 'Somon Air',\n",
       "       'South African Airways', 'Southwest Airlines', 'SpiceJet',\n",
       "       'Spirit Airlines', 'SriLankan Airlines', 'Sriwijaya Air',\n",
       "       'StarFlyer', 'Sudan Airways', 'Sun Country Airlines', 'Sun-Air',\n",
       "       'Sunwing Airlines', 'Suparna Airlines', 'Super Air Jet',\n",
       "       'Surinam Airways', 'SVG Air', 'Swoop', 'SyrianAir', \"T'Way Air\",\n",
       "       'TAAG Angola Airlines', 'TACA Regional', 'TAG Airlines',\n",
       "       'Tailwind Airlines', 'TAM Airlines', 'TAME',\n",
       "       'Tame Línea Aérea Del Ecuador', 'TAP Portugal', 'TAR Aerolineas',\n",
       "       'Thai AirAsia', 'Thai Airways', 'Thai Lion Air',\n",
       "       'Thai Smile Airways', 'Thomas Cook Airlines',\n",
       "       'Thomas Cook Airlines Scandinavia', 'Thomson Airways',\n",
       "       'Tianjin Airlines', 'Tibet Airlines', 'Tigerair',\n",
       "       'Tigerair Australia', 'Tigerair Taiwan', 'Titan Airways',\n",
       "       'Transaero Airlines', 'TransAsia Airways', 'Transavia',\n",
       "       'TransNusa', 'Trigana Air', 'Tropic Air Belize', 'TUI Airways',\n",
       "       'TUIfly', 'TUIfly Nordic', 'Tunisair', 'Turkish Airlines',\n",
       "       'Turkmenistan Airlines', 'TUS Airways', 'Uganda Airlines',\n",
       "       'Ultra Air', 'United Airlines', 'UP by El Al', 'Ural Airlines',\n",
       "       'US Airways', 'US-Bangla Airlines', 'Utair Aviation',\n",
       "       'Uzbekistan Airways', 'V Air', 'Vanilla Air', 'ViaAir',\n",
       "       'Vietnam Airlines', 'Virgin America', 'Virgin Australia',\n",
       "       'Vistara', 'Viva Air', 'VivaAerobús', 'VivaColombia',\n",
       "       'VLM Airlines', 'Volaris', 'Volotea', 'Voyage Air',\n",
       "       'Vueling Airlines', 'Wamos Air', 'Wideroe', 'Winair', 'Wingo',\n",
       "       'Wings Air', 'Wizz Air', 'World2Fly', 'WOW air', 'Xiamen Airlines',\n",
       "       'XL Airways France', 'Yakutia Airlines', 'Yangon Airways',\n",
       "       'Yemenia', 'Yeti Airlines', 'Zambia Airways', 'ZIPAIR'],\n",
       "      dtype=object)"
      ]
     },
     "execution_count": 6,
     "metadata": {},
     "output_type": "execute_result"
    }
   ],
   "source": [
    "df['Airline Name'].unique()"
   ]
  },
  {
   "cell_type": "code",
   "execution_count": 7,
   "metadata": {},
   "outputs": [
    {
     "data": {
      "text/plain": [
       "array(['9', '1', '8', '2', '3', '5', '6', '7', '4', 'n'], dtype=object)"
      ]
     },
     "execution_count": 7,
     "metadata": {},
     "output_type": "execute_result"
    }
   ],
   "source": [
    "df['Overall_Rating'].unique()"
   ]
  },
  {
   "cell_type": "code",
   "execution_count": 8,
   "metadata": {},
   "outputs": [],
   "source": [
    "rating_mapping = {\n",
    "    '1': 'Low overall rating',\n",
    "    '2': 'Low overall rating',\n",
    "    '3': 'Medium overall rating',\n",
    "    '4': 'Medium overall rating',\n",
    "    '5': 'Medium overall rating',\n",
    "    '6': 'High overall rating',\n",
    "    '7': 'High overall rating',\n",
    "    '8': 'High overall rating',\n",
    "    '9': 'High overall rating',\n",
    "    'n': 'Not rated'\n",
    "}\n",
    "df['Rating_Level'] = df['Overall_Rating'].map(rating_mapping)\n",
    "df = df.drop(columns = ['Overall_Rating'])"
   ]
  },
  {
   "cell_type": "code",
   "execution_count": 9,
   "metadata": {},
   "outputs": [
    {
     "data": {
      "text/plain": [
       "array([ 4.,  2.,  1.,  3.,  5., nan,  0.])"
      ]
     },
     "execution_count": 9,
     "metadata": {},
     "output_type": "execute_result"
    }
   ],
   "source": [
    "df['Seat Comfort'].unique()"
   ]
  },
  {
   "cell_type": "code",
   "execution_count": 10,
   "metadata": {},
   "outputs": [],
   "source": [
    "def map_seat_comfort_rating(rating):\n",
    "    if pd.isnull(rating):\n",
    "        return 'Not rated'  # Word for missing (NaN) values\n",
    "    elif rating == 0:\n",
    "        return 'Very Poor seat comfort'\n",
    "    elif rating == 1:\n",
    "        return 'Poor seat comfort'\n",
    "    elif rating == 2:\n",
    "        return 'Fair seat comfort'\n",
    "    elif rating == 3:\n",
    "        return 'Average seat comfort'\n",
    "    elif rating == 4:\n",
    "        return 'Good seat comfort'\n",
    "    elif rating == 5:\n",
    "        return 'Excellent seat comfort'\n",
    "    else:\n",
    "        return 'Unknown'  # In case of unexpected values\n",
    "\n",
    "# Apply the function to the 'Seat_Comfort_Rating' column\n",
    "df['Seat_Comfort_Level'] = df['Seat Comfort'].apply(map_seat_comfort_rating)\n",
    "df = df.drop(columns = ['Seat Comfort'])"
   ]
  },
  {
   "cell_type": "code",
   "execution_count": 11,
   "metadata": {},
   "outputs": [
    {
     "data": {
      "text/plain": [
       "array([ 5.,  2.,  1.,  4.,  3., nan,  0.])"
      ]
     },
     "execution_count": 11,
     "metadata": {},
     "output_type": "execute_result"
    }
   ],
   "source": [
    "df['Cabin Staff Service'].unique()"
   ]
  },
  {
   "cell_type": "code",
   "execution_count": 12,
   "metadata": {},
   "outputs": [],
   "source": [
    "def map_cabin_staff_service_rating(rating):\n",
    "    if pd.isnull(rating):\n",
    "        return 'Not rated'  # Word for missing (NaN) values\n",
    "    elif rating == 0:\n",
    "        return 'Very Poor staff service'\n",
    "    elif rating == 1:\n",
    "        return 'Poor staff service'\n",
    "    elif rating == 2:\n",
    "        return 'Fair staff service'\n",
    "    elif rating == 3:\n",
    "        return 'Average staff service'\n",
    "    elif rating == 4:\n",
    "        return 'Good staff service'\n",
    "    elif rating == 5:\n",
    "        return 'Excellent staff service'\n",
    "    else:\n",
    "        return 'Unknown'  # In case of unexpected values\n",
    "\n",
    "# Apply the function to the 'Cabin_Staff_Service_Rating' column\n",
    "df['Cabin_Staff_Service_Level'] = df['Cabin Staff Service'].apply(map_cabin_staff_service_rating)\n",
    "df = df.drop(columns = ['Cabin Staff Service'])"
   ]
  },
  {
   "cell_type": "code",
   "execution_count": 13,
   "metadata": {},
   "outputs": [
    {
     "data": {
      "text/plain": [
       "array([ 4.,  1., nan,  3.,  2.,  5.,  0.])"
      ]
     },
     "execution_count": 13,
     "metadata": {},
     "output_type": "execute_result"
    }
   ],
   "source": [
    "df['Food & Beverages'].unique()"
   ]
  },
  {
   "cell_type": "code",
   "execution_count": 14,
   "metadata": {},
   "outputs": [
    {
     "data": {
      "text/plain": [
       "array([ 4.,  1.,  5.,  3.,  2., nan])"
      ]
     },
     "execution_count": 14,
     "metadata": {},
     "output_type": "execute_result"
    }
   ],
   "source": [
    "df['Ground Service'].unique()"
   ]
  },
  {
   "cell_type": "code",
   "execution_count": 15,
   "metadata": {},
   "outputs": [],
   "source": [
    "def map_cabin_staff_service_rating(rating):\n",
    "    if pd.isnull(rating):\n",
    "        return 'Not rated'  # Word for missing (NaN) values\n",
    "    elif rating == 0:\n",
    "        return 'Very Poor taste'\n",
    "    elif rating == 1:\n",
    "        return 'Poor taste'\n",
    "    elif rating == 2:\n",
    "        return 'Fair taste'\n",
    "    elif rating == 3:\n",
    "        return 'Average taste'\n",
    "    elif rating == 4:\n",
    "        return 'Good taste'\n",
    "    elif rating == 5:\n",
    "        return 'Excellent taste'\n",
    "    else:\n",
    "        return 'Unknown'  # In case of unexpected values\n",
    "\n",
    "# Apply the function to the 'Cabin_Staff_Service_Rating' column\n",
    "df['Food_Beverages_Level'] = df['Food & Beverages'].apply(map_cabin_staff_service_rating)\n",
    "df = df.drop(columns = ['Food & Beverages'])"
   ]
  },
  {
   "cell_type": "code",
   "execution_count": 16,
   "metadata": {},
   "outputs": [],
   "source": [
    "def map_cabin_staff_service_rating(rating):\n",
    "    if pd.isnull(rating):\n",
    "        return 'Not rated'  # Word for missing (NaN) values\n",
    "    elif rating == 1:\n",
    "        return 'Poor ground service'\n",
    "    elif rating == 2:\n",
    "        return 'Fair ground service'\n",
    "    elif rating == 3:\n",
    "        return 'Average ground service'\n",
    "    elif rating == 4:\n",
    "        return 'Good ground service'\n",
    "    elif rating == 5:\n",
    "        return 'Excellent ground service'\n",
    "    else:\n",
    "        return 'Unknown'  # In case of unexpected values\n",
    "\n",
    "# Apply the function to the 'Cabin_Staff_Service_Rating' column\n",
    "df['Ground_Service_Level'] = df['Ground Service'].apply(map_cabin_staff_service_rating)\n",
    "df = df.drop(columns = ['Ground Service'])"
   ]
  },
  {
   "cell_type": "code",
   "execution_count": 17,
   "metadata": {},
   "outputs": [
    {
     "data": {
      "text/plain": [
       "array([nan,  1.,  4.,  5.,  3.,  2.,  0.])"
      ]
     },
     "execution_count": 17,
     "metadata": {},
     "output_type": "execute_result"
    }
   ],
   "source": [
    "df['Inflight Entertainment'].unique()"
   ]
  },
  {
   "cell_type": "code",
   "execution_count": 18,
   "metadata": {},
   "outputs": [],
   "source": [
    "def map_cabin_staff_service_rating(rating):\n",
    "    if pd.isnull(rating):\n",
    "        return 'Not rated'  # Word for missing (NaN) values\n",
    "    elif rating == 0:\n",
    "        return 'Very Poor Entertainment'\n",
    "    elif rating == 1:\n",
    "        return 'Poor Entertainment'\n",
    "    elif rating == 2:\n",
    "        return 'Fair Entertainment'\n",
    "    elif rating == 3:\n",
    "        return 'Average Entertainment'\n",
    "    elif rating == 4:\n",
    "        return 'Good Entertainment'\n",
    "    elif rating == 5:\n",
    "        return 'Excellent Entertainment'\n",
    "    else:\n",
    "        return 'Unknown'  # In case of unexpected values\n",
    "\n",
    "# Apply the function to the 'Cabin_Staff_Service_Rating' column\n",
    "df['Inflight_Entertainment_Level'] = df['Inflight Entertainment'].apply(map_cabin_staff_service_rating)\n",
    "df = df.drop(columns = ['Inflight Entertainment'])"
   ]
  },
  {
   "cell_type": "code",
   "execution_count": 19,
   "metadata": {},
   "outputs": [
    {
     "data": {
      "text/plain": [
       "array([nan,  1.,  5.,  3.,  4.,  2.,  0.])"
      ]
     },
     "execution_count": 19,
     "metadata": {},
     "output_type": "execute_result"
    }
   ],
   "source": [
    "df['Wifi & Connectivity'].unique()"
   ]
  },
  {
   "cell_type": "code",
   "execution_count": 20,
   "metadata": {},
   "outputs": [],
   "source": [
    "def map_cabin_staff_service_rating(rating):\n",
    "    if pd.isnull(rating):\n",
    "        return 'Not rated'  # Word for missing (NaN) values\n",
    "    elif rating == 0:\n",
    "        return 'Very Poor Connectivity'\n",
    "    elif rating == 1:\n",
    "        return 'Poor Connectivity'\n",
    "    elif rating == 2:\n",
    "        return 'Fair Connectivity'\n",
    "    elif rating == 3:\n",
    "        return 'Average Connectivity'\n",
    "    elif rating == 4:\n",
    "        return 'Good Connectivity'\n",
    "    elif rating == 5:\n",
    "        return 'Excellent Connectivity'\n",
    "    else:\n",
    "        return 'Unknown'  # In case of unexpected values\n",
    "\n",
    "# Apply the function to the 'Cabin_Staff_Service_Rating' column\n",
    "df['Wifi_Connectivity_Level'] = df['Wifi & Connectivity'].apply(map_cabin_staff_service_rating)\n",
    "df = df.drop(columns = ['Wifi & Connectivity'])"
   ]
  },
  {
   "cell_type": "code",
   "execution_count": 21,
   "metadata": {},
   "outputs": [
    {
     "data": {
      "text/plain": [
       "array([ 3.,  2.,  1.,  5.,  4., nan,  0.])"
      ]
     },
     "execution_count": 21,
     "metadata": {},
     "output_type": "execute_result"
    }
   ],
   "source": [
    "df['Value For Money'].unique()"
   ]
  },
  {
   "cell_type": "code",
   "execution_count": 22,
   "metadata": {},
   "outputs": [],
   "source": [
    "def map_cabin_staff_service_rating(rating):\n",
    "    if pd.isnull(rating):\n",
    "        return 'Not rated'  # Word for missing (NaN) values\n",
    "    elif rating == 0:\n",
    "        return 'Very Poor value for money'\n",
    "    elif rating == 1:\n",
    "        return 'Poor value for money'\n",
    "    elif rating == 2:\n",
    "        return 'Fair value for money'\n",
    "    elif rating == 3:\n",
    "        return 'Average value for money'\n",
    "    elif rating == 4:\n",
    "        return 'Good value for money'\n",
    "    elif rating == 5:\n",
    "        return 'Excellent value for money'\n",
    "    else:\n",
    "        return 'Unknown'  # In case of unexpected values\n",
    "\n",
    "# Apply the function to the 'Cabin_Staff_Service_Rating' column\n",
    "df['Value_For_Money_Level'] = df['Value For Money'].apply(map_cabin_staff_service_rating)\n",
    "df = df.drop(columns = ['Value For Money'])"
   ]
  },
  {
   "cell_type": "code",
   "execution_count": 23,
   "metadata": {},
   "outputs": [
    {
     "data": {
      "text/plain": [
       "array([ True, False])"
      ]
     },
     "execution_count": 23,
     "metadata": {},
     "output_type": "execute_result"
    }
   ],
   "source": [
    "df['Verified'].unique()"
   ]
  },
  {
   "cell_type": "code",
   "execution_count": 24,
   "metadata": {},
   "outputs": [],
   "source": [
    "verification_mapping = {True: 'Verified', False: 'Not verified'}\n",
    "\n",
    "# Apply the mapping to the 'Verification_Status' column\n",
    "df['Verification_Status'] = df['Verified'].map(verification_mapping)"
   ]
  },
  {
   "cell_type": "code",
   "execution_count": 25,
   "metadata": {},
   "outputs": [],
   "source": [
    "df['Seat Type'].unique()\n",
    "df['Seat Type'] = df['Seat Type'].fillna('Unknown')\n",
    "df['Aircraft'] = df['Aircraft'].fillna('Unknown')\n",
    "df['Route'] = df['Route'].fillna('Unknown')\n",
    "df['Date Flown'] = df['Date Flown'].fillna('Unknown')\n",
    "df['Type Of Traveller'] = df['Type Of Traveller'].fillna('Unkown')"
   ]
  },
  {
   "cell_type": "code",
   "execution_count": 26,
   "metadata": {},
   "outputs": [
    {
     "data": {
      "text/plain": [
       "Unnamed: 0                      0\n",
       "Airline Name                    0\n",
       "Review_Title                    0\n",
       "Review Date                     0\n",
       "Verified                        0\n",
       "Review                          0\n",
       "Aircraft                        0\n",
       "Type Of Traveller               0\n",
       "Seat Type                       0\n",
       "Route                           0\n",
       "Date Flown                      0\n",
       "Recommended                     0\n",
       "Rating_Level                    0\n",
       "Seat_Comfort_Level              0\n",
       "Cabin_Staff_Service_Level       0\n",
       "Food_Beverages_Level            0\n",
       "Ground_Service_Level            0\n",
       "Inflight_Entertainment_Level    0\n",
       "Wifi_Connectivity_Level         0\n",
       "Value_For_Money_Level           0\n",
       "Verification_Status             0\n",
       "dtype: int64"
      ]
     },
     "execution_count": 26,
     "metadata": {},
     "output_type": "execute_result"
    }
   ],
   "source": [
    "df.isnull().sum()"
   ]
  },
  {
   "cell_type": "code",
   "execution_count": 27,
   "metadata": {},
   "outputs": [],
   "source": [
    "df['text'] = df['Airline Name'] + ' ' + \\\n",
    "             df['Review_Title'] + ' ' + \\\n",
    "             df['Review Date'].astype(str) + ' ' + \\\n",
    "             df['Review'] + ' ' + \\\n",
    "             df['Aircraft'] + ' ' + \\\n",
    "             df['Type Of Traveller'] + ' ' + \\\n",
    "             df['Seat Type'] + ' ' + \\\n",
    "             df['Route'] + ' ' + \\\n",
    "             df['Date Flown'].astype(str) + ' ' + \\\n",
    "             df['Recommended'] + ' ' + \\\n",
    "             df['Rating_Level'] + ' ' + \\\n",
    "             df['Seat_Comfort_Level'] + ' ' + \\\n",
    "             df['Cabin_Staff_Service_Level'] + ' ' + \\\n",
    "             df['Food_Beverages_Level'] + ' ' + \\\n",
    "             df['Ground_Service_Level'] + ' ' + \\\n",
    "             df['Inflight_Entertainment_Level'] + ' ' + \\\n",
    "             df['Wifi_Connectivity_Level'] + ' ' + \\\n",
    "             df['Value_For_Money_Level'] + ' ' + \\\n",
    "             df['Verification_Status']"
   ]
  },
  {
   "cell_type": "code",
   "execution_count": 28,
   "metadata": {},
   "outputs": [
    {
     "data": {
      "text/html": [
       "<div>\n",
       "<style scoped>\n",
       "    .dataframe tbody tr th:only-of-type {\n",
       "        vertical-align: middle;\n",
       "    }\n",
       "\n",
       "    .dataframe tbody tr th {\n",
       "        vertical-align: top;\n",
       "    }\n",
       "\n",
       "    .dataframe thead th {\n",
       "        text-align: right;\n",
       "    }\n",
       "</style>\n",
       "<table border=\"1\" class=\"dataframe\">\n",
       "  <thead>\n",
       "    <tr style=\"text-align: right;\">\n",
       "      <th></th>\n",
       "      <th>Unnamed: 0</th>\n",
       "      <th>Airline Name</th>\n",
       "      <th>Review_Title</th>\n",
       "      <th>Review Date</th>\n",
       "      <th>Verified</th>\n",
       "      <th>Review</th>\n",
       "      <th>Aircraft</th>\n",
       "      <th>Type Of Traveller</th>\n",
       "      <th>Seat Type</th>\n",
       "      <th>Route</th>\n",
       "      <th>...</th>\n",
       "      <th>Rating_Level</th>\n",
       "      <th>Seat_Comfort_Level</th>\n",
       "      <th>Cabin_Staff_Service_Level</th>\n",
       "      <th>Food_Beverages_Level</th>\n",
       "      <th>Ground_Service_Level</th>\n",
       "      <th>Inflight_Entertainment_Level</th>\n",
       "      <th>Wifi_Connectivity_Level</th>\n",
       "      <th>Value_For_Money_Level</th>\n",
       "      <th>Verification_Status</th>\n",
       "      <th>text</th>\n",
       "    </tr>\n",
       "  </thead>\n",
       "  <tbody>\n",
       "    <tr>\n",
       "      <th>0</th>\n",
       "      <td>0</td>\n",
       "      <td>AB Aviation</td>\n",
       "      <td>\"pretty decent airline\"</td>\n",
       "      <td>11th November 2019</td>\n",
       "      <td>True</td>\n",
       "      <td>Moroni to Moheli. Turned out to be a pretty ...</td>\n",
       "      <td>Unknown</td>\n",
       "      <td>Solo Leisure</td>\n",
       "      <td>Economy Class</td>\n",
       "      <td>Moroni to Moheli</td>\n",
       "      <td>...</td>\n",
       "      <td>High overall rating</td>\n",
       "      <td>Good seat comfort</td>\n",
       "      <td>Excellent staff service</td>\n",
       "      <td>Good taste</td>\n",
       "      <td>Good ground service</td>\n",
       "      <td>Not rated</td>\n",
       "      <td>Not rated</td>\n",
       "      <td>Average value for money</td>\n",
       "      <td>Verified</td>\n",
       "      <td>AB Aviation \"pretty decent airline\" 11th Novem...</td>\n",
       "    </tr>\n",
       "    <tr>\n",
       "      <th>1</th>\n",
       "      <td>1</td>\n",
       "      <td>AB Aviation</td>\n",
       "      <td>\"Not a good airline\"</td>\n",
       "      <td>25th June 2019</td>\n",
       "      <td>True</td>\n",
       "      <td>Moroni to Anjouan. It is a very small airline...</td>\n",
       "      <td>E120</td>\n",
       "      <td>Solo Leisure</td>\n",
       "      <td>Economy Class</td>\n",
       "      <td>Moroni to Anjouan</td>\n",
       "      <td>...</td>\n",
       "      <td>Low overall rating</td>\n",
       "      <td>Fair seat comfort</td>\n",
       "      <td>Fair staff service</td>\n",
       "      <td>Poor taste</td>\n",
       "      <td>Poor ground service</td>\n",
       "      <td>Not rated</td>\n",
       "      <td>Not rated</td>\n",
       "      <td>Fair value for money</td>\n",
       "      <td>Verified</td>\n",
       "      <td>AB Aviation \"Not a good airline\" 25th June 201...</td>\n",
       "    </tr>\n",
       "    <tr>\n",
       "      <th>2</th>\n",
       "      <td>2</td>\n",
       "      <td>AB Aviation</td>\n",
       "      <td>\"flight was fortunately short\"</td>\n",
       "      <td>25th June 2019</td>\n",
       "      <td>True</td>\n",
       "      <td>Anjouan to Dzaoudzi. A very small airline an...</td>\n",
       "      <td>Embraer E120</td>\n",
       "      <td>Solo Leisure</td>\n",
       "      <td>Economy Class</td>\n",
       "      <td>Anjouan to Dzaoudzi</td>\n",
       "      <td>...</td>\n",
       "      <td>Low overall rating</td>\n",
       "      <td>Fair seat comfort</td>\n",
       "      <td>Poor staff service</td>\n",
       "      <td>Poor taste</td>\n",
       "      <td>Poor ground service</td>\n",
       "      <td>Not rated</td>\n",
       "      <td>Not rated</td>\n",
       "      <td>Fair value for money</td>\n",
       "      <td>Verified</td>\n",
       "      <td>AB Aviation \"flight was fortunately short\" 25t...</td>\n",
       "    </tr>\n",
       "    <tr>\n",
       "      <th>3</th>\n",
       "      <td>3</td>\n",
       "      <td>Adria Airways</td>\n",
       "      <td>\"I will never fly again with Adria\"</td>\n",
       "      <td>28th September 2019</td>\n",
       "      <td>False</td>\n",
       "      <td>Please do a favor yourself and do not fly wi...</td>\n",
       "      <td>Unknown</td>\n",
       "      <td>Solo Leisure</td>\n",
       "      <td>Economy Class</td>\n",
       "      <td>Frankfurt to Pristina</td>\n",
       "      <td>...</td>\n",
       "      <td>Low overall rating</td>\n",
       "      <td>Poor seat comfort</td>\n",
       "      <td>Poor staff service</td>\n",
       "      <td>Not rated</td>\n",
       "      <td>Poor ground service</td>\n",
       "      <td>Not rated</td>\n",
       "      <td>Not rated</td>\n",
       "      <td>Poor value for money</td>\n",
       "      <td>Not verified</td>\n",
       "      <td>Adria Airways \"I will never fly again with Adr...</td>\n",
       "    </tr>\n",
       "    <tr>\n",
       "      <th>4</th>\n",
       "      <td>4</td>\n",
       "      <td>Adria Airways</td>\n",
       "      <td>\"it ruined our last days of holidays\"</td>\n",
       "      <td>24th September 2019</td>\n",
       "      <td>True</td>\n",
       "      <td>Do not book a flight with this airline! My fr...</td>\n",
       "      <td>Unknown</td>\n",
       "      <td>Couple Leisure</td>\n",
       "      <td>Economy Class</td>\n",
       "      <td>Sofia to Amsterdam via Ljubljana</td>\n",
       "      <td>...</td>\n",
       "      <td>Low overall rating</td>\n",
       "      <td>Poor seat comfort</td>\n",
       "      <td>Poor staff service</td>\n",
       "      <td>Poor taste</td>\n",
       "      <td>Poor ground service</td>\n",
       "      <td>Poor Entertainment</td>\n",
       "      <td>Poor Connectivity</td>\n",
       "      <td>Poor value for money</td>\n",
       "      <td>Verified</td>\n",
       "      <td>Adria Airways \"it ruined our last days of holi...</td>\n",
       "    </tr>\n",
       "  </tbody>\n",
       "</table>\n",
       "<p>5 rows × 22 columns</p>\n",
       "</div>"
      ],
      "text/plain": [
       "   Unnamed: 0   Airline Name                           Review_Title  \\\n",
       "0           0    AB Aviation                \"pretty decent airline\"   \n",
       "1           1    AB Aviation                   \"Not a good airline\"   \n",
       "2           2    AB Aviation         \"flight was fortunately short\"   \n",
       "3           3  Adria Airways    \"I will never fly again with Adria\"   \n",
       "4           4  Adria Airways  \"it ruined our last days of holidays\"   \n",
       "\n",
       "           Review Date  Verified  \\\n",
       "0   11th November 2019      True   \n",
       "1       25th June 2019      True   \n",
       "2       25th June 2019      True   \n",
       "3  28th September 2019     False   \n",
       "4  24th September 2019      True   \n",
       "\n",
       "                                              Review       Aircraft  \\\n",
       "0    Moroni to Moheli. Turned out to be a pretty ...        Unknown   \n",
       "1   Moroni to Anjouan. It is a very small airline...           E120   \n",
       "2    Anjouan to Dzaoudzi. A very small airline an...  Embraer E120    \n",
       "3    Please do a favor yourself and do not fly wi...        Unknown   \n",
       "4   Do not book a flight with this airline! My fr...        Unknown   \n",
       "\n",
       "  Type Of Traveller      Seat Type                             Route  ...  \\\n",
       "0      Solo Leisure  Economy Class                  Moroni to Moheli  ...   \n",
       "1      Solo Leisure  Economy Class                 Moroni to Anjouan  ...   \n",
       "2      Solo Leisure  Economy Class               Anjouan to Dzaoudzi  ...   \n",
       "3      Solo Leisure  Economy Class             Frankfurt to Pristina  ...   \n",
       "4    Couple Leisure  Economy Class  Sofia to Amsterdam via Ljubljana  ...   \n",
       "\n",
       "          Rating_Level Seat_Comfort_Level Cabin_Staff_Service_Level  \\\n",
       "0  High overall rating  Good seat comfort   Excellent staff service   \n",
       "1   Low overall rating  Fair seat comfort        Fair staff service   \n",
       "2   Low overall rating  Fair seat comfort        Poor staff service   \n",
       "3   Low overall rating  Poor seat comfort        Poor staff service   \n",
       "4   Low overall rating  Poor seat comfort        Poor staff service   \n",
       "\n",
       "  Food_Beverages_Level Ground_Service_Level Inflight_Entertainment_Level  \\\n",
       "0           Good taste  Good ground service                    Not rated   \n",
       "1           Poor taste  Poor ground service                    Not rated   \n",
       "2           Poor taste  Poor ground service                    Not rated   \n",
       "3            Not rated  Poor ground service                    Not rated   \n",
       "4           Poor taste  Poor ground service           Poor Entertainment   \n",
       "\n",
       "  Wifi_Connectivity_Level    Value_For_Money_Level Verification_Status  \\\n",
       "0               Not rated  Average value for money            Verified   \n",
       "1               Not rated     Fair value for money            Verified   \n",
       "2               Not rated     Fair value for money            Verified   \n",
       "3               Not rated     Poor value for money        Not verified   \n",
       "4       Poor Connectivity     Poor value for money            Verified   \n",
       "\n",
       "                                                text  \n",
       "0  AB Aviation \"pretty decent airline\" 11th Novem...  \n",
       "1  AB Aviation \"Not a good airline\" 25th June 201...  \n",
       "2  AB Aviation \"flight was fortunately short\" 25t...  \n",
       "3  Adria Airways \"I will never fly again with Adr...  \n",
       "4  Adria Airways \"it ruined our last days of holi...  \n",
       "\n",
       "[5 rows x 22 columns]"
      ]
     },
     "execution_count": 28,
     "metadata": {},
     "output_type": "execute_result"
    }
   ],
   "source": [
    "df.head()"
   ]
  },
  {
   "cell_type": "code",
   "execution_count": 29,
   "metadata": {},
   "outputs": [],
   "source": [
    "df.to_csv('Airline_processed.csv',index = False)"
   ]
  }
 ],
 "metadata": {
  "kernelspec": {
   "display_name": "base",
   "language": "python",
   "name": "python3"
  },
  "language_info": {
   "codemirror_mode": {
    "name": "ipython",
    "version": 3
   },
   "file_extension": ".py",
   "mimetype": "text/x-python",
   "name": "python",
   "nbconvert_exporter": "python",
   "pygments_lexer": "ipython3",
   "version": "3.11.5"
  }
 },
 "nbformat": 4,
 "nbformat_minor": 2
}
